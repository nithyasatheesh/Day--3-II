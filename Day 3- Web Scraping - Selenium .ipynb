{
 "cells": [
  {
   "cell_type": "markdown",
   "metadata": {},
   "source": [
    "### Selenium\n",
    "Selenium is a Python tool for automating web browsers to do number of tasks."
   ]
  },
  {
   "cell_type": "code",
   "execution_count": 1,
   "metadata": {},
   "outputs": [],
   "source": [
    "url=\"https://www.naukri.com/data-science-jobs?k=data%20science\""
   ]
  },
  {
   "cell_type": "code",
   "execution_count": 2,
   "metadata": {},
   "outputs": [
    {
     "name": "stdout",
     "output_type": "stream",
     "text": [
      "Requirement already satisfied: Selenium in c:\\users\\nithyalakshmim\\anaconda\\lib\\site-packages (4.7.2)\n",
      "Requirement already satisfied: certifi>=2021.10.8 in c:\\users\\nithyalakshmim\\anaconda\\lib\\site-packages (from Selenium) (2022.9.14)\n",
      "Requirement already satisfied: urllib3[socks]~=1.26 in c:\\users\\nithyalakshmim\\anaconda\\lib\\site-packages (from Selenium) (1.26.11)\n",
      "Requirement already satisfied: trio-websocket~=0.9 in c:\\users\\nithyalakshmim\\anaconda\\lib\\site-packages (from Selenium) (0.9.2)\n",
      "Requirement already satisfied: trio~=0.17 in c:\\users\\nithyalakshmim\\anaconda\\lib\\site-packages (from Selenium) (0.22.0)\n",
      "Requirement already satisfied: outcome in c:\\users\\nithyalakshmim\\anaconda\\lib\\site-packages (from trio~=0.17->Selenium) (1.2.0)\n",
      "Requirement already satisfied: attrs>=19.2.0 in c:\\users\\nithyalakshmim\\anaconda\\lib\\site-packages (from trio~=0.17->Selenium) (21.4.0)\n",
      "Requirement already satisfied: idna in c:\\users\\nithyalakshmim\\anaconda\\lib\\site-packages (from trio~=0.17->Selenium) (3.3)\n",
      "Requirement already satisfied: sniffio in c:\\users\\nithyalakshmim\\anaconda\\lib\\site-packages (from trio~=0.17->Selenium) (1.2.0)\n",
      "Requirement already satisfied: async-generator>=1.9 in c:\\users\\nithyalakshmim\\anaconda\\lib\\site-packages (from trio~=0.17->Selenium) (1.10)\n",
      "Requirement already satisfied: exceptiongroup>=1.0.0rc9 in c:\\users\\nithyalakshmim\\anaconda\\lib\\site-packages (from trio~=0.17->Selenium) (1.1.0)\n",
      "Requirement already satisfied: sortedcontainers in c:\\users\\nithyalakshmim\\anaconda\\lib\\site-packages (from trio~=0.17->Selenium) (2.4.0)\n",
      "Requirement already satisfied: cffi>=1.14 in c:\\users\\nithyalakshmim\\anaconda\\lib\\site-packages (from trio~=0.17->Selenium) (1.15.1)\n",
      "Requirement already satisfied: wsproto>=0.14 in c:\\users\\nithyalakshmim\\anaconda\\lib\\site-packages (from trio-websocket~=0.9->Selenium) (1.2.0)\n",
      "Requirement already satisfied: PySocks!=1.5.7,<2.0,>=1.5.6 in c:\\users\\nithyalakshmim\\anaconda\\lib\\site-packages (from urllib3[socks]~=1.26->Selenium) (1.7.1)\n",
      "Requirement already satisfied: pycparser in c:\\users\\nithyalakshmim\\anaconda\\lib\\site-packages (from cffi>=1.14->trio~=0.17->Selenium) (2.21)\n",
      "Requirement already satisfied: h11<1,>=0.9.0 in c:\\users\\nithyalakshmim\\anaconda\\lib\\site-packages (from wsproto>=0.14->trio-websocket~=0.9->Selenium) (0.14.0)\n"
     ]
    },
    {
     "name": "stderr",
     "output_type": "stream",
     "text": [
      "\n",
      "[notice] A new release of pip available: 23.0.1 -> 23.3.1\n",
      "[notice] To update, run: python.exe -m pip install --upgrade pip\n"
     ]
    }
   ],
   "source": [
    "!pip install Selenium"
   ]
  },
  {
   "cell_type": "code",
   "execution_count": 3,
   "metadata": {},
   "outputs": [],
   "source": [
    "from selenium import webdriver\n",
    "from bs4 import BeautifulSoup\n",
    "import os\n",
    "os.chdir('D:\\\\scripts\\\\scrapping\\\\new')# install mozila geckodriver\n",
    "# Firefox webdriver driver github\n",
    "# WebDriver is a remote control interface that enables introspection and control of user agents"
   ]
  },
  {
   "cell_type": "raw",
   "metadata": {},
   "source": [
    "Selenium Firefox Driver, also called GeckoDriver is a browser engine developed by Mozilla for many applications. It provides a link between test cases and the Firefox browser. Without the help of GeckoDriver, one cannot instantiate the object of Firefox browser and perform automated Selenium testing."
   ]
  },
  {
   "cell_type": "code",
   "execution_count": 5,
   "metadata": {},
   "outputs": [],
   "source": [
    "#initiate the mozila firefox/Edge\n",
    "browser=webdriver.Firefox()\n",
    "#browser=webdriver.Edge()"
   ]
  },
  {
   "cell_type": "code",
   "execution_count": 6,
   "metadata": {},
   "outputs": [],
   "source": [
    "browser.get(url)"
   ]
  },
  {
   "cell_type": "code",
   "execution_count": 12,
   "metadata": {},
   "outputs": [],
   "source": [
    "html=browser.page_source  \n",
    "#page_source method is used retrieve the page source of the webpage the user is currently accessing. \n",
    "soup=BeautifulSoup(html,'html.parser')"
   ]
  },
  {
   "cell_type": "code",
   "execution_count": 13,
   "metadata": {},
   "outputs": [
    {
     "data": {
      "text/plain": [
       "[<a class=\"title\" href=\"https://www.naukri.com/job-listings-data-science-engineer-enest-technologies-mohali-punjab-0-to-1-years-111223004328\" rel=\"noopener noreferrer\" target=\"_blank\" title=\"Data Science Engineer\">Data Science Engineer</a>,\n",
       " <a class=\"title\" href=\"https://www.naukri.com/job-listings-data-science-manager-firstsource-hyderabad-secunderabad-telangana-bangalore-bengaluru-karnataka-mumbai-all-areas-5-to-10-years-121023007685\" rel=\"noopener noreferrer\" target=\"_blank\" title=\"Data Science Manager\">Data Science Manager</a>,\n",
       " <a class=\"title\" href=\"https://www.naukri.com/job-listings-manager-data-science-western-digital-bangalore-bengaluru-8-to-12-years-121223501117\" rel=\"noopener noreferrer\" target=\"_blank\" title=\"Manager, Data Science\">Manager, Data Science</a>,\n",
       " <a class=\"title\" title=\"Head Data Science &amp; Analytics\">Head Data Science &amp; Analytics</a>,\n",
       " <a class=\"title\" title=\"Director Data Science\">Director Data Science</a>,\n",
       " <a class=\"title\" title=\"Director Data Science\">Director Data Science</a>,\n",
       " <a class=\"title\" title=\"Head Data Science\">Head Data Science</a>,\n",
       " <a class=\"title\" title=\"Director Data Science\">Director Data Science</a>,\n",
       " <a class=\"title\" href=\"https://www.naukri.com/job-listings-senior-data-science-professional-xcel-hires-managment-solutions-pvt-ltd-bangalore-bengaluru-1-to-4-years-121223501158\" rel=\"noopener noreferrer\" target=\"_blank\" title=\"Senior Data Science Professional\">Senior Data Science Professional</a>,\n",
       " <a class=\"title\" href=\"https://www.naukri.com/job-listings-advisory-data-science-assistant-manager-kpmg-india-bangalore-bengaluru-2-to-5-years-061223500984\" rel=\"noopener noreferrer\" target=\"_blank\" title=\"Advisory Data Science Assistant Manager\">Advisory Data Science Assistant Manager</a>,\n",
       " <a class=\"title\" href=\"https://www.naukri.com/job-listings-senior-divisional-manager-data-science-tvs-motor-company-bangalore-bengaluru-14-to-18-years-051223501578\" rel=\"noopener noreferrer\" target=\"_blank\" title=\"Senior Divisional Manager- Data Science\">Senior Divisional Manager- Data Science</a>,\n",
       " <a class=\"title\" href=\"https://www.naukri.com/job-listings-manager-data-science-any-location-indihire-consultants-hyderabad-bengaluru-delhi-ncr-10-to-15-years-111223002151\" rel=\"noopener noreferrer\" target=\"_blank\" title=\"Manager Data Science - Any location\">Manager Data Science - Any location</a>,\n",
       " <a class=\"title\" href=\"https://www.naukri.com/job-listings-director-data-science-tiger-analytics-hyderabad-chennai-bengaluru-10-to-20-years-061223010646\" rel=\"noopener noreferrer\" target=\"_blank\" title=\"Director - Data Science\">Director - Data Science</a>,\n",
       " <a class=\"title\" href=\"https://www.naukri.com/job-listings-senior-manager-digital-platforms-data-science-worleyparsons-sdn-bhd-mumbai-navi-mumbai-15-to-18-years-121223500799\" rel=\"noopener noreferrer\" target=\"_blank\" title=\"Senior Manager, Digital Platforms &amp; Data Science\">Senior Manager, Digital Platforms &amp; Data Science</a>,\n",
       " <a class=\"title\" href=\"https://www.naukri.com/job-listings-assistant-manager-data-science-hindustan-unilever-ltd-bangalore-bengaluru-2-to-7-years-011223500837\" rel=\"noopener noreferrer\" target=\"_blank\" title=\"Assistant Manager - Data Science\">Assistant Manager - Data Science</a>,\n",
       " <a class=\"title\" href=\"https://www.naukri.com/job-listings-data-science-engineer-kyndryl-multiple-location-kyndryl-hyderabad-telangana-pune-maharashtra-bangalore-bengaluru-karnataka-2-to-7-years-241123007317\" rel=\"noopener noreferrer\" target=\"_blank\" title=\"Data Science Engineer @Kyndryl Multiple Location\">Data Science Engineer @Kyndryl Multiple Location</a>,\n",
       " <a class=\"title\" href=\"https://www.naukri.com/job-listings-data-science-generative-ai-senior-manager-ani-pricewaterhouse-coopers-private-limited-hyderabad-secunderabad-bangalore-bengaluru-12-to-20-years-210823501146\" rel=\"noopener noreferrer\" target=\"_blank\" title=\"Data Science (Generative AI) - Senior Manager - ANI\">Data Science (Generative AI) - Senior Manager - ANI</a>,\n",
       " <a class=\"title\" href=\"https://www.naukri.com/job-listings-gm-scm-data-science-mastermind-network-delhi-ncr-13-to-15-years-301123012270\" rel=\"noopener noreferrer\" target=\"_blank\" title=\"GM - SCM &amp; Data Science\">GM - SCM &amp; Data Science</a>,\n",
       " <a class=\"title\" href=\"https://www.naukri.com/job-listings-data-science-specialist-ai-ml-nlp-global-pharma-tek-bangalore-bengaluru-5-to-8-years-051223501117\" rel=\"noopener noreferrer\" target=\"_blank\" title=\"Data Science Specialist AI ML NLP\">Data Science Specialist AI ML NLP</a>,\n",
       " <a class=\"title\" href=\"https://www.naukri.com/job-listings-senior-staff-engineer-data-science-nagarro-india-8-to-11-years-301123012170\" rel=\"noopener noreferrer\" target=\"_blank\" title=\"Senior Staff Engineer (Data Science)\">Senior Staff Engineer (Data Science)</a>,\n",
       " <a class=\"title\" href=\"https://www.naukri.com/job-listings-head-data-science-analytics-exide-kolkata-west-bengal-mumbai-maharashtra-bangalore-bengaluru-7-to-10-years-151123005370\" rel=\"noopener noreferrer\" target=\"_blank\" title=\"Head - Data Science &amp; Analytics\">Head - Data Science &amp; Analytics</a>,\n",
       " <a class=\"title\" href=\"https://www.naukri.com/job-listings-data-science-domain-manager-coursera-kolkata-mumbai-new-delhi-hyderabad-secunderabad-pune-chennai-bangalore-bengaluru-7-to-11-years-101023500825\" rel=\"noopener noreferrer\" target=\"_blank\" title=\"Data Science Domain Manager\">Data Science Domain Manager</a>,\n",
       " <a class=\"title\" href=\"https://www.naukri.com/job-listings-senior-associate-data-science-axtria-noida-gurugram-1-to-5-years-211123007608\" rel=\"noopener noreferrer\" target=\"_blank\" title=\"Senior Associate - Data Science\">Senior Associate - Data Science</a>,\n",
       " <a class=\"title\" href=\"https://www.naukri.com/job-listings-python-developer-data-science-tiger-analytics-tiger-analytics-hyderabad-secunderabad-chennai-bangalore-bengaluru-2-to-7-years-101123006845\" rel=\"noopener noreferrer\" target=\"_blank\" title=\"Python Developer - Data Science - Tiger analytics\">Python Developer - Data Science - Tiger analytics</a>,\n",
       " <a class=\"title\" href=\"https://www.naukri.com/job-listings-data-science-sr-analyst-pepsi-foods-priv-limited-hyderabad-secunderabad-8-to-13-years-281123501328\" rel=\"noopener noreferrer\" target=\"_blank\" title=\"Data Science Sr Analyst\">Data Science Sr Analyst</a>]"
      ]
     },
     "execution_count": 13,
     "metadata": {},
     "output_type": "execute_result"
    }
   ],
   "source": [
    "# position  #select() method to locate all elements of a particular CSS class\n",
    "## position name\n",
    "soup.select('a.title ')"
   ]
  },
  {
   "cell_type": "code",
   "execution_count": 14,
   "metadata": {},
   "outputs": [
    {
     "data": {
      "text/plain": [
       "'Data Science Engineer'"
      ]
     },
     "execution_count": 14,
     "metadata": {},
     "output_type": "execute_result"
    }
   ],
   "source": [
    "soup.select('a.title')[0].text"
   ]
  },
  {
   "cell_type": "code",
   "execution_count": 15,
   "metadata": {},
   "outputs": [
    {
     "data": {
      "text/plain": [
       "25"
      ]
     },
     "execution_count": 15,
     "metadata": {},
     "output_type": "execute_result"
    }
   ],
   "source": [
    "# List comprehension\n",
    "titles=[i.text for i in soup.select(\"a.title\")]\n",
    "len(titles)"
   ]
  },
  {
   "cell_type": "code",
   "execution_count": 16,
   "metadata": {},
   "outputs": [
    {
     "name": "stdout",
     "output_type": "stream",
     "text": [
      "['Data Science Engineer', 'Data Science Manager', 'Manager, Data Science', 'Head Data Science & Analytics', 'Director Data Science', 'Director Data Science', 'Head Data Science', 'Director Data Science', 'Senior Data Science Professional', 'Advisory Data Science Assistant Manager', 'Senior Divisional Manager- Data Science', 'Manager Data Science - Any location', 'Director - Data Science', 'Senior Manager, Digital Platforms & Data Science', 'Assistant Manager - Data Science', 'Data Science Engineer @Kyndryl Multiple Location', 'Data Science (Generative AI) - Senior Manager - ANI', 'GM - SCM & Data Science', 'Data Science Specialist AI ML NLP', 'Senior Staff Engineer (Data Science)', 'Head - Data Science & Analytics', 'Data Science Domain Manager', 'Senior Associate - Data Science', 'Python Developer - Data Science - Tiger analytics', 'Data Science Sr Analyst']\n"
     ]
    }
   ],
   "source": [
    "print(titles)"
   ]
  },
  {
   "cell_type": "code",
   "execution_count": 17,
   "metadata": {},
   "outputs": [
    {
     "data": {
      "text/plain": [
       "17"
      ]
     },
     "execution_count": 17,
     "metadata": {},
     "output_type": "execute_result"
    }
   ],
   "source": [
    "#company=[i.text for i in soup.select(\"a.subTitle.ellipsis.fleft\")]\n",
    "company=[i.text for i in soup.select(\"a.comp-name.mw-25\")]\n",
    "\n",
    "len(company)"
   ]
  },
  {
   "cell_type": "code",
   "execution_count": 18,
   "metadata": {},
   "outputs": [],
   "source": [
    "#Using selenium\n",
    "#subtitle\n",
    "#string patterns used to identify an element based on a combination of HTML tag, \n",
    "#id, class, and attributes.\n",
    "#browser.find_elements_by_css_selector(\"a.comp-name.mw-25\")[0].text"
   ]
  },
  {
   "cell_type": "code",
   "execution_count": 19,
   "metadata": {},
   "outputs": [
    {
     "data": {
      "text/plain": [
       "'Enest Technologies'"
      ]
     },
     "execution_count": 19,
     "metadata": {},
     "output_type": "execute_result"
    }
   ],
   "source": [
    "browser.find_elements(by='css selector',value='a.comp-name.mw-25')[0].text"
   ]
  },
  {
   "cell_type": "code",
   "execution_count": 38,
   "metadata": {},
   "outputs": [
    {
     "data": {
      "text/plain": [
       "7"
      ]
     },
     "execution_count": 38,
     "metadata": {},
     "output_type": "execute_result"
    }
   ],
   "source": [
    "#years\n",
    "x=soup.find_all('span',class_='expwdth')[0].text\n",
    "#soup.find_all('ul',class_='ellipsis fleft expwdth')[0].find_all(\"li\")[0].text\n",
    "len(x)"
   ]
  },
  {
   "cell_type": "code",
   "execution_count": 21,
   "metadata": {},
   "outputs": [
    {
     "data": {
      "text/plain": [
       "20"
      ]
     },
     "execution_count": 21,
     "metadata": {},
     "output_type": "execute_result"
    }
   ],
   "source": [
    "exp=[i.text for i in soup.find_all('span',class_='expwdth')]\n",
    "len(exp)"
   ]
  },
  {
   "cell_type": "code",
   "execution_count": 22,
   "metadata": {},
   "outputs": [
    {
     "data": {
      "text/plain": [
       "'Mohali, Punjab'"
      ]
     },
     "execution_count": 22,
     "metadata": {},
     "output_type": "execute_result"
    }
   ],
   "source": [
    "#location\n",
    "soup.find_all('span',class_='locWdth')[0].text\n",
    "#soup.find_all('ul',class_='mt-7')[0].find_all(\"li\")[2].text"
   ]
  },
  {
   "cell_type": "code",
   "execution_count": 23,
   "metadata": {},
   "outputs": [
    {
     "data": {
      "text/plain": [
       "20"
      ]
     },
     "execution_count": 23,
     "metadata": {},
     "output_type": "execute_result"
    }
   ],
   "source": [
    "loc=[i.text for i in soup.find_all('span',class_='locWdth')]\n",
    "len(loc)"
   ]
  },
  {
   "cell_type": "code",
   "execution_count": 39,
   "metadata": {},
   "outputs": [],
   "source": [
    "import pandas as pd\n",
    "def get_table(soup):\n",
    "    #titles=[i.text for i in soup.select(\"a.title\")]\n",
    "    #company=[i.text for i in soup.select(\"a.comp-name.mw-25\")]\n",
    "    exp=[i.text for i in soup.find_all('span',class_='expwdth')]\n",
    "    loc=[i.text for i in soup.find_all('span',class_='locWdth')]\n",
    "    table=pd.DataFrame({'loc':loc,'exp':exp})\n",
    "    return table\n",
    "    "
   ]
  },
  {
   "cell_type": "code",
   "execution_count": 40,
   "metadata": {},
   "outputs": [
    {
     "data": {
      "text/html": [
       "<div>\n",
       "<style scoped>\n",
       "    .dataframe tbody tr th:only-of-type {\n",
       "        vertical-align: middle;\n",
       "    }\n",
       "\n",
       "    .dataframe tbody tr th {\n",
       "        vertical-align: top;\n",
       "    }\n",
       "\n",
       "    .dataframe thead th {\n",
       "        text-align: right;\n",
       "    }\n",
       "</style>\n",
       "<table border=\"1\" class=\"dataframe\">\n",
       "  <thead>\n",
       "    <tr style=\"text-align: right;\">\n",
       "      <th></th>\n",
       "      <th>loc</th>\n",
       "      <th>exp</th>\n",
       "    </tr>\n",
       "  </thead>\n",
       "  <tbody>\n",
       "    <tr>\n",
       "      <th>0</th>\n",
       "      <td>Mohali, Punjab</td>\n",
       "      <td>0-1 Yrs</td>\n",
       "    </tr>\n",
       "    <tr>\n",
       "      <th>1</th>\n",
       "      <td>Hybrid - Hyderabad/ Secunderabad, Telangana, B...</td>\n",
       "      <td>5-10 Yrs</td>\n",
       "    </tr>\n",
       "    <tr>\n",
       "      <th>2</th>\n",
       "      <td>Bangalore/Bengaluru</td>\n",
       "      <td>8-12 Yrs</td>\n",
       "    </tr>\n",
       "    <tr>\n",
       "      <th>3</th>\n",
       "      <td>Bangalore/Bengaluru</td>\n",
       "      <td>1-4 Yrs</td>\n",
       "    </tr>\n",
       "    <tr>\n",
       "      <th>4</th>\n",
       "      <td>Bangalore/Bengaluru</td>\n",
       "      <td>2-5 Yrs</td>\n",
       "    </tr>\n",
       "    <tr>\n",
       "      <th>5</th>\n",
       "      <td>Bangalore/Bengaluru</td>\n",
       "      <td>14-18 Yrs</td>\n",
       "    </tr>\n",
       "    <tr>\n",
       "      <th>6</th>\n",
       "      <td>Hyderabad, Bengaluru, Delhi / NCR</td>\n",
       "      <td>10-15 Yrs</td>\n",
       "    </tr>\n",
       "    <tr>\n",
       "      <th>7</th>\n",
       "      <td>Hybrid - Hyderabad, Chennai, Bengaluru</td>\n",
       "      <td>10-20 Yrs</td>\n",
       "    </tr>\n",
       "    <tr>\n",
       "      <th>8</th>\n",
       "      <td>Mumbai, Navi Mumbai</td>\n",
       "      <td>15-18 Yrs</td>\n",
       "    </tr>\n",
       "    <tr>\n",
       "      <th>9</th>\n",
       "      <td>Bangalore/Bengaluru</td>\n",
       "      <td>2-7 Yrs</td>\n",
       "    </tr>\n",
       "    <tr>\n",
       "      <th>10</th>\n",
       "      <td>Hybrid - Hyderabad, Telangana, Pune, Maharasht...</td>\n",
       "      <td>2-7 Yrs</td>\n",
       "    </tr>\n",
       "    <tr>\n",
       "      <th>11</th>\n",
       "      <td>Hyderabad/Secunderabad, Bangalore/Bengaluru</td>\n",
       "      <td>12-20 Yrs</td>\n",
       "    </tr>\n",
       "    <tr>\n",
       "      <th>12</th>\n",
       "      <td>Delhi / NCR</td>\n",
       "      <td>13-15 Yrs</td>\n",
       "    </tr>\n",
       "    <tr>\n",
       "      <th>13</th>\n",
       "      <td>Bangalore/Bengaluru</td>\n",
       "      <td>5-8 Yrs</td>\n",
       "    </tr>\n",
       "    <tr>\n",
       "      <th>14</th>\n",
       "      <td>Remote</td>\n",
       "      <td>8-11 Yrs</td>\n",
       "    </tr>\n",
       "    <tr>\n",
       "      <th>15</th>\n",
       "      <td>Kolkata, West Bengal, Mumbai, Maharashtra, Ban...</td>\n",
       "      <td>7-10 Yrs</td>\n",
       "    </tr>\n",
       "    <tr>\n",
       "      <th>16</th>\n",
       "      <td>Kolkata, Mumbai, New Delhi, Hyderabad/Secunder...</td>\n",
       "      <td>7-11 Yrs</td>\n",
       "    </tr>\n",
       "    <tr>\n",
       "      <th>17</th>\n",
       "      <td>Hybrid - Noida, Gurugram</td>\n",
       "      <td>1-5 Yrs</td>\n",
       "    </tr>\n",
       "    <tr>\n",
       "      <th>18</th>\n",
       "      <td>Hyderabad/Secunderabad, Chennai, Bangalore/Ben...</td>\n",
       "      <td>2-7 Yrs</td>\n",
       "    </tr>\n",
       "    <tr>\n",
       "      <th>19</th>\n",
       "      <td>Hyderabad/Secunderabad</td>\n",
       "      <td>8-13 Yrs</td>\n",
       "    </tr>\n",
       "  </tbody>\n",
       "</table>\n",
       "</div>"
      ],
      "text/plain": [
       "                                                  loc        exp\n",
       "0                                      Mohali, Punjab    0-1 Yrs\n",
       "1   Hybrid - Hyderabad/ Secunderabad, Telangana, B...   5-10 Yrs\n",
       "2                                 Bangalore/Bengaluru   8-12 Yrs\n",
       "3                                 Bangalore/Bengaluru    1-4 Yrs\n",
       "4                                 Bangalore/Bengaluru    2-5 Yrs\n",
       "5                                 Bangalore/Bengaluru  14-18 Yrs\n",
       "6                   Hyderabad, Bengaluru, Delhi / NCR  10-15 Yrs\n",
       "7              Hybrid - Hyderabad, Chennai, Bengaluru  10-20 Yrs\n",
       "8                                 Mumbai, Navi Mumbai  15-18 Yrs\n",
       "9                                 Bangalore/Bengaluru    2-7 Yrs\n",
       "10  Hybrid - Hyderabad, Telangana, Pune, Maharasht...    2-7 Yrs\n",
       "11        Hyderabad/Secunderabad, Bangalore/Bengaluru  12-20 Yrs\n",
       "12                                        Delhi / NCR  13-15 Yrs\n",
       "13                                Bangalore/Bengaluru    5-8 Yrs\n",
       "14                                             Remote   8-11 Yrs\n",
       "15  Kolkata, West Bengal, Mumbai, Maharashtra, Ban...   7-10 Yrs\n",
       "16  Kolkata, Mumbai, New Delhi, Hyderabad/Secunder...   7-11 Yrs\n",
       "17                           Hybrid - Noida, Gurugram    1-5 Yrs\n",
       "18  Hyderabad/Secunderabad, Chennai, Bangalore/Ben...    2-7 Yrs\n",
       "19                             Hyderabad/Secunderabad   8-13 Yrs"
      ]
     },
     "execution_count": 40,
     "metadata": {},
     "output_type": "execute_result"
    }
   ],
   "source": [
    "get_table(soup)"
   ]
  },
  {
   "cell_type": "code",
   "execution_count": 41,
   "metadata": {},
   "outputs": [],
   "source": [
    "stub='https://www.naukri.com/data-science-jobs-{}?k=data%20science'"
   ]
  },
  {
   "cell_type": "code",
   "execution_count": 42,
   "metadata": {},
   "outputs": [
    {
     "data": {
      "text/plain": [
       "'https://www.naukri.com/data-science-jobs-3?k=data%20science'"
      ]
     },
     "execution_count": 42,
     "metadata": {},
     "output_type": "execute_result"
    }
   ],
   "source": [
    "stub.format(3)"
   ]
  },
  {
   "cell_type": "code",
   "execution_count": 44,
   "metadata": {},
   "outputs": [],
   "source": [
    "import pandas as pd\n",
    "def get_table(soup):\n",
    "    #titles=[i.text for i in soup.select(\"a.title\")]\n",
    "    #company=[i.text for i in soup.select(\"a.comp-name.mw-25\")]\n",
    "    #exp=[i.text for i in soup.find_all('span',class_='expwdth')]\n",
    "    loc=[i.text for i in soup.find_all('span',class_='locWdth')]\n",
    "    table=pd.DataFrame({'exp':exp})\n",
    "    return table"
   ]
  },
  {
   "cell_type": "code",
   "execution_count": 45,
   "metadata": {},
   "outputs": [],
   "source": [
    "import time\n",
    "Tables=[]\n",
    "for i in range(1,10):\n",
    "    url=stub.format(i)\n",
    "    browser.get(url)\n",
    "    time.sleep(2) #suspends (waits) execution of the current thread for a given number of seconds\n",
    "    html=browser.page_source\n",
    "    soup=BeautifulSoup(html,\"html.parser\")\n",
    "    Tables.append(get_table(soup))"
   ]
  },
  {
   "cell_type": "code",
   "execution_count": 46,
   "metadata": {},
   "outputs": [
    {
     "data": {
      "text/plain": [
       "(180, 1)"
      ]
     },
     "execution_count": 46,
     "metadata": {},
     "output_type": "execute_result"
    }
   ],
   "source": [
    "df=pd.concat(Tables,axis=0)\n",
    "df.shape"
   ]
  },
  {
   "cell_type": "code",
   "execution_count": 47,
   "metadata": {},
   "outputs": [
    {
     "data": {
      "text/html": [
       "<div>\n",
       "<style scoped>\n",
       "    .dataframe tbody tr th:only-of-type {\n",
       "        vertical-align: middle;\n",
       "    }\n",
       "\n",
       "    .dataframe tbody tr th {\n",
       "        vertical-align: top;\n",
       "    }\n",
       "\n",
       "    .dataframe thead th {\n",
       "        text-align: right;\n",
       "    }\n",
       "</style>\n",
       "<table border=\"1\" class=\"dataframe\">\n",
       "  <thead>\n",
       "    <tr style=\"text-align: right;\">\n",
       "      <th></th>\n",
       "      <th>exp</th>\n",
       "    </tr>\n",
       "  </thead>\n",
       "  <tbody>\n",
       "    <tr>\n",
       "      <th>0</th>\n",
       "      <td>0-1 Yrs</td>\n",
       "    </tr>\n",
       "    <tr>\n",
       "      <th>1</th>\n",
       "      <td>5-10 Yrs</td>\n",
       "    </tr>\n",
       "    <tr>\n",
       "      <th>2</th>\n",
       "      <td>8-12 Yrs</td>\n",
       "    </tr>\n",
       "    <tr>\n",
       "      <th>3</th>\n",
       "      <td>1-4 Yrs</td>\n",
       "    </tr>\n",
       "    <tr>\n",
       "      <th>4</th>\n",
       "      <td>2-5 Yrs</td>\n",
       "    </tr>\n",
       "  </tbody>\n",
       "</table>\n",
       "</div>"
      ],
      "text/plain": [
       "        exp\n",
       "0   0-1 Yrs\n",
       "1  5-10 Yrs\n",
       "2  8-12 Yrs\n",
       "3   1-4 Yrs\n",
       "4   2-5 Yrs"
      ]
     },
     "execution_count": 47,
     "metadata": {},
     "output_type": "execute_result"
    }
   ],
   "source": [
    "df.head()"
   ]
  },
  {
   "cell_type": "markdown",
   "metadata": {},
   "source": [
    "---------------------------------------------End ---------------------------------------------------"
   ]
  }
 ],
 "metadata": {
  "kernelspec": {
   "display_name": "Python 3 (ipykernel)",
   "language": "python",
   "name": "python3"
  },
  "language_info": {
   "codemirror_mode": {
    "name": "ipython",
    "version": 3
   },
   "file_extension": ".py",
   "mimetype": "text/x-python",
   "name": "python",
   "nbconvert_exporter": "python",
   "pygments_lexer": "ipython3",
   "version": "3.9.13"
  }
 },
 "nbformat": 4,
 "nbformat_minor": 4
}
