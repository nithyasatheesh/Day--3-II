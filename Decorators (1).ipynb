{
 "cells": [
  {
   "cell_type": "markdown",
   "id": "9af4b9e0",
   "metadata": {},
   "source": [
    "#### Decorators\n",
    "\n",
    "- allows us to change the behavior of a function without modifying the function itself"
   ]
  },
  {
   "cell_type": "code",
   "execution_count": null,
   "id": "f1af3329",
   "metadata": {},
   "outputs": [],
   "source": [
    "def fun_decorator(func):\n",
    "    def wrapped_func():\n",
    "        # Do something before the function is executed\n",
    "        func()\n",
    "        # Do something after the function is executed\n",
    "    return wrapped_func"
   ]
  },
  {
   "cell_type": "markdown",
   "id": "65310cf4",
   "metadata": {},
   "source": [
    "fun_decroator-->name ofthe decorator\n",
    "wrapped_func-->name of the inner function\n",
    "func--> function that is being decorated"
   ]
  },
  {
   "cell_type": "code",
   "execution_count": null,
   "id": "522402f6",
   "metadata": {},
   "outputs": [],
   "source": [
    "@fun_decorator\n",
    "def func():\n",
    "    print(\"hello\")"
   ]
  },
  {
   "cell_type": "code",
   "execution_count": null,
   "id": "640ae5a5",
   "metadata": {},
   "outputs": [],
   "source": [
    "func()"
   ]
  },
  {
   "cell_type": "code",
   "execution_count": null,
   "id": "c6d8a1b2",
   "metadata": {},
   "outputs": [],
   "source": [
    "def fun_decorator(func):\n",
    "    def wrapped_func():\n",
    "        print('='*30)\n",
    "        func()\n",
    "        print('='*30)\n",
    "    return wrapped_func"
   ]
  },
  {
   "cell_type": "code",
   "execution_count": null,
   "id": "7693bb22",
   "metadata": {},
   "outputs": [],
   "source": [
    "@fun_decorator\n",
    "def test():\n",
    "    print(\"Welcome to all\")"
   ]
  },
  {
   "cell_type": "code",
   "execution_count": null,
   "id": "13cfdb67",
   "metadata": {},
   "outputs": [],
   "source": [
    "test()"
   ]
  },
  {
   "cell_type": "code",
   "execution_count": null,
   "id": "730ca44a",
   "metadata": {},
   "outputs": [],
   "source": [
    "@fun_decorator\n",
    "def greet():\n",
    "    print('Hello all')"
   ]
  },
  {
   "cell_type": "code",
   "execution_count": null,
   "id": "6b68e855",
   "metadata": {},
   "outputs": [],
   "source": [
    "greet()"
   ]
  },
  {
   "cell_type": "code",
   "execution_count": null,
   "id": "a546caa2",
   "metadata": {},
   "outputs": [],
   "source": []
  }
 ],
 "metadata": {
  "kernelspec": {
   "display_name": "Python 3 (ipykernel)",
   "language": "python",
   "name": "python3"
  },
  "language_info": {
   "codemirror_mode": {
    "name": "ipython",
    "version": 3
   },
   "file_extension": ".py",
   "mimetype": "text/x-python",
   "name": "python",
   "nbconvert_exporter": "python",
   "pygments_lexer": "ipython3",
   "version": "3.9.13"
  }
 },
 "nbformat": 4,
 "nbformat_minor": 5
}
